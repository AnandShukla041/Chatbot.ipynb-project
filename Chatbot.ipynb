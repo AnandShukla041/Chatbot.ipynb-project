{
  "cells": [
    {
      "cell_type": "markdown",
      "metadata": {},
      "source": [
        "# \ud83e\udd16 Simple Chatbot with NLTK\n",
        "\n",
        "This notebook demonstrates a basic rule-based chatbot using NLTK for preprocessing."
      ]
    },
    {
      "cell_type": "code",
      "execution_count": null,
      "metadata": {},
      "outputs": [],
      "source": [
        "import nltk\n",
        "\n",
        "# Download required NLTK resources\n",
        "nltk.download('punkt')\n",
        "nltk.download('wordnet')\n",
        "nltk.download('stopwords')\n",
        "print(\"NLTK is ready!\")"
      ]
    },
    {
      "cell_type": "code",
      "execution_count": null,
      "metadata": {},
      "outputs": [],
      "source": [
        "import random\n",
        "import string\n",
        "\n",
        "# Predefined responses\n",
        "responses = {\n",
        "    \"greeting\": [\"Hello!\", \"Hi there!\", \"Hey! How can I help you?\"],\n",
        "    \"bye\": [\"Goodbye!\", \"See you soon!\", \"Bye! Take care.\"],\n",
        "    \"thanks\": [\"You're welcome!\", \"Anytime!\", \"Glad I could help!\"],\n",
        "    \"default\": [\"I'm not sure I understand.\", \"Could you rephrase that?\", \"Interesting, tell me more.\"]\n",
        "}\n",
        "\n",
        "# Preprocess user input\n",
        "def preprocess(sentence):\n",
        "    tokens = nltk.word_tokenize(sentence.lower())\n",
        "    tokens = [word for word in tokens if word not in string.punctuation]\n",
        "    return tokens\n",
        "\n",
        "# Rule-based chatbot response\n",
        "def chatbot_response(user_input):\n",
        "    tokens = preprocess(user_input)\n",
        "    if any(word in tokens for word in [\"hello\", \"hi\", \"hey\"]):\n",
        "        return random.choice(responses[\"greeting\"])\n",
        "    elif any(word in tokens for word in [\"bye\", \"exit\", \"quit\"]):\n",
        "        return random.choice(responses[\"bye\"])\n",
        "    elif \"thank\" in tokens:\n",
        "        return random.choice(responses[\"thanks\"])\n",
        "    else:\n",
        "        return random.choice(responses[\"default\"])"
      ]
    },
    {
      "cell_type": "code",
      "execution_count": null,
      "metadata": {},
      "outputs": [],
      "source": [
        "print(\"Hi! I\u2019m your NLP-powered chatbot. Type 'bye' to exit.\")\n",
        "\n",
        "while True:\n",
        "    user_input = input(\"You: \")\n",
        "    if user_input.lower() in [\"quit\", \"exit\", \"bye\"]:\n",
        "        print(\"Bot:\", random.choice(responses[\"bye\"]))\n",
        "        break\n",
        "    print(\"Bot:\", chatbot_response(user_input))"
      ]
    }
  ],
  "metadata": {
    "kernelspec": {
      "display_name": "Python 3.10 (pyenv)",
      "language": "python",
      "name": "py310"
    },
    "language_info": {
      "name": "python",
      "version": "3.10"
    }
  },
  "nbformat": 4,
  "nbformat_minor": 5
}